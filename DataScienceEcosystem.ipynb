{
 "cells": [
  {
   "cell_type": "markdown",
   "id": "499f5667-0bc4-4380-b641-ac6567d5d4c2",
   "metadata": {},
   "source": [
    "# Data Science Tools and Ecosystem"
   ]
  },
  {
   "cell_type": "markdown",
   "id": "c7f717a5-f1a5-4dfe-bbe5-c209be170b0e",
   "metadata": {},
   "source": [
    "In this notebook, Data Science Tools and Ecosystem are summarized."
   ]
  },
  {
   "cell_type": "markdown",
   "id": "7b9320e1-dd4b-4beb-9d30-15e07ab4848a",
   "metadata": {},
   "source": [
    "**Objectives:**\n",
    "\n",
    "- Define popular languages that Data Scientists use\n",
    "- Describe popular libraries used by Data Scientists\n",
    "- Describe popular data science development environments\n",
    "- Demonstrate simple python code"
   ]
  },
  {
   "cell_type": "markdown",
   "id": "1643ab3f-9dd2-42b5-b092-1438926aa6c9",
   "metadata": {},
   "source": [
    "Some of the popular languages that Data Scientists use are:\n",
    "1. Python\n",
    "2. R\n",
    "3. Julia"
   ]
  },
  {
   "cell_type": "markdown",
   "id": "7794b606-db98-4671-8d57-f4b3cc4d1412",
   "metadata": {},
   "source": [
    "Some of the commonly used libraries used by Data Scientists include:\n",
    "1. scikit-learn\n",
    "2. matplotlib\n",
    "3. pandas\n",
    "4. numpy\n",
    "5. scipy"
   ]
  },
  {
   "cell_type": "markdown",
   "id": "fb999a68-dcfc-4644-82a1-193fe8d799be",
   "metadata": {},
   "source": [
    "| Data Science Tools|\n",
    "|:---|\n",
    "| Jupyter |\n",
    "| RStudio |\n",
    "| VS Code |"
   ]
  },
  {
   "cell_type": "markdown",
   "id": "8e4404cf-8350-4112-9987-571843090618",
   "metadata": {},
   "source": [
    "### Below are a few examples of evaluating arithmetic expressions in Python"
   ]
  },
  {
   "cell_type": "code",
   "execution_count": 1,
   "id": "59d1d136-a424-4cd7-8204-4bcfdb466476",
   "metadata": {},
   "outputs": [
    {
     "data": {
      "text/plain": [
       "17"
      ]
     },
     "execution_count": 1,
     "metadata": {},
     "output_type": "execute_result"
    }
   ],
   "source": [
    "# This a simple arithmetic expression to mutiply then add integers\n",
    "(3*4)+5"
   ]
  },
  {
   "cell_type": "code",
   "execution_count": 2,
   "id": "386322ca-e917-412a-b28b-7d65ddc10c6e",
   "metadata": {},
   "outputs": [
    {
     "data": {
      "text/plain": [
       "3.3333333333333335"
      ]
     },
     "execution_count": 2,
     "metadata": {},
     "output_type": "execute_result"
    }
   ],
   "source": [
    "# This will convert 200 minutes to hours by diving by 60\n",
    "200 / 60"
   ]
  },
  {
   "cell_type": "code",
   "execution_count": null,
   "id": "21270465-eb18-4c51-bd6a-fb686d3a10f7",
   "metadata": {},
   "outputs": [],
   "source": []
  }
 ],
 "metadata": {
  "kernelspec": {
   "display_name": "Python [conda env:base] *",
   "language": "python",
   "name": "conda-base-py"
  },
  "language_info": {
   "codemirror_mode": {
    "name": "ipython",
    "version": 3
   },
   "file_extension": ".py",
   "mimetype": "text/x-python",
   "name": "python",
   "nbconvert_exporter": "python",
   "pygments_lexer": "ipython3",
   "version": "3.13.5"
  }
 },
 "nbformat": 4,
 "nbformat_minor": 5
}
